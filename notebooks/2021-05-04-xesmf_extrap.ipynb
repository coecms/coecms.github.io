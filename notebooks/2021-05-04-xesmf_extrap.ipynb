{
 "cells": [
  {
   "cell_type": "markdown",
   "metadata": {},
   "source": [
    "# Extrapolation with xesmf\n",
    "\n",
    "When regridding data from one grid to another, it's common for the data to have different masks - you have one mask on the ocean grid for the ocean data and one mask on the atmosphere grid for the atmosphere data. These masks don't always line up perfectly if the data comes from different sources, so when we regrid there can be points missing along the coastline.\n",
    "\n",
    "One way to work around this is to use extrapolation, extending the data so it covers the masked area. There are a couple ways to do this with ESMF_RegridWeightGen - you can just find the nearest unmasked point (`neareststod`), you can use some average of all nearby points weighted by distance (`nearestidavg`) or you can gradually reduce the size of the mask filling in grid cells with the mean of those around them (`creep`).\n",
    "\n",
    "With the Pangeo variant of [`xesmf`](https://pangeo-xesmf.readthedocs.io/en/latest/index.html) installed in [hh5 Conda](http://climate-cms.wikis.unsw.edu.au/Conda) you can access these extrapolation methods directly from Python."
   ]
  },
  {
   "cell_type": "code",
   "execution_count": 1,
   "metadata": {},
   "outputs": [],
   "source": [
    "import xarray\n",
    "import xesmf\n",
    "import numpy"
   ]
  },
  {
   "cell_type": "markdown",
   "metadata": {},
   "source": [
    "I'll start out with some sample data - in reality you'd read this from a file, I'll just use some random values from `numpy.random.random`. These two datasets are on different grids - dataset `a` is on a 10x15 grid, `b` on a 20x20 grid."
   ]
  },
  {
   "cell_type": "code",
   "execution_count": 2,
   "metadata": {},
   "outputs": [],
   "source": [
    "da_a = xarray.DataArray(numpy.random.random((10,15)), coords=[('lat', numpy.linspace(0,50, num=10)), ('lon', numpy.linspace(0,50,num=15))], name='a')\n",
    "da_b = xarray.DataArray(numpy.random.random((20,20)), coords=[('lat', numpy.linspace(0,50, num=20)), ('lon', numpy.linspace(0,50,num=20))], name='b')\n",
    "\n",
    "ds_a = da_a.to_dataset()\n",
    "ds_b = da_a.to_dataset()"
   ]
  },
  {
   "cell_type": "markdown",
   "metadata": {},
   "source": [
    "To use the xesmf extrapolation we need to specify the mask as a new variable in the dataset named `mask`. Again you'd read this from a file when working with a dataset - most datasets have a special mask file, or if the data is already masked you can access that mask with `.mask` on the array.\n",
    "\n",
    "The mask needs to be `1` on the grid cells that are valid and `0` on the grid cells that are masked out."
   ]
  },
  {
   "cell_type": "code",
   "execution_count": 3,
   "metadata": {},
   "outputs": [],
   "source": [
    "ds_a['mask'] = (('lat', 'lon'), numpy.ones(ds_a.a.shape))\n",
    "ds_a['mask'][0:5, 0:5] = 0\n",
    "\n",
    "# I'm working a bit backwards and applying the mask I've just made to the data\n",
    "ds_a['a'] = ds_a['a'].where(ds_a['mask'] == 1)"
   ]
  },
  {
   "cell_type": "markdown",
   "metadata": {},
   "source": [
    "Now our 'a' data is masked in the bottom left corner, and we'd like to regrid it to the same grid as 'b', extrapolating to fill the masked area."
   ]
  },
  {
   "cell_type": "code",
   "execution_count": 4,
   "metadata": {},
   "outputs": [
    {
     "data": {
      "text/plain": [
       "<matplotlib.collections.QuadMesh at 0x14608e524910>"
      ]
     },
     "execution_count": 4,
     "metadata": {},
     "output_type": "execute_result"
    },
    {
     "data": {
      "image/png": "[encoded data removed]",
      "text/plain": [
       "<Figure size 432x288 with 2 Axes>"
      ]
     },
     "metadata": {
      "needs_background": "light"
     },
     "output_type": "display_data"
    }
   ],
   "source": [
    "ds_a['a'].plot()"
   ]
  },
  {
   "cell_type": "markdown",
   "metadata": {},
   "source": [
    "The 'pangeo' version of xesmf is installed in conda, which includes extrapolation. Make sure there is a `'mask'` variable in the source dataset if you want to use extrapolation.\n",
    "\n",
    "https://pangeo-xesmf.readthedocs.io/en/latest/user_api.html"
   ]
  },
  {
   "cell_type": "code",
   "execution_count": 5,
   "metadata": {},
   "outputs": [
    {
     "name": "stderr",
     "output_type": "stream",
     "text": [
      "/g/data3/hh5/public/apps/miniconda3/envs/analysis3-21.01/lib/python3.8/site-packages/xesmf/frontend.py:464: FutureWarning: ``output_sizes`` should be given in the ``dask_gufunc_kwargs`` parameter. It will be removed as direct parameter in a future version.\n",
      "  dr_out = xr.apply_ufunc(\n"
     ]
    },
    {
     "data": {
      "text/plain": [
       "<matplotlib.collections.QuadMesh at 0x146085185760>"
      ]
     },
     "execution_count": 5,
     "metadata": {},
     "output_type": "execute_result"
    },
    {
     "data": {
      "image/png": "[encoded data removed]",
      "text/plain": [
       "<Figure size 432x288 with 2 Axes>"
      ]
     },
     "metadata": {
      "needs_background": "light"
     },
     "output_type": "display_data"
    }
   ],
   "source": [
    "re = xesmf.Regridder(ds_a, ds_b, 'bilinear', extrap_method='nearest_s2d')\n",
    "re.regrid_dataarray(ds_a['a']).plot()"
   ]
  },
  {
   "cell_type": "markdown",
   "metadata": {},
   "source": [
    "You can see that the bottom corner has been filled in. Remember this isn't new information, it's only the nearby values copied over. \n",
    "\n",
    "The inverse distance extrapolation produces smoother results, there are a couple parameters that can be used to tune the averaging."
   ]
  },
  {
   "cell_type": "code",
   "execution_count": 6,
   "metadata": {},
   "outputs": [
    {
     "data": {
      "text/plain": [
       "<matplotlib.collections.QuadMesh at 0x1460850ac040>"
      ]
     },
     "execution_count": 6,
     "metadata": {},
     "output_type": "execute_result"
    },
    {
     "data": {
      "image/png": "[encoded data removed]",
      "text/plain": [
       "<Figure size 432x288 with 2 Axes>"
      ]
     },
     "metadata": {
      "needs_background": "light"
     },
     "output_type": "display_data"
    }
   ],
   "source": [
    "re2 = xesmf.Regridder(ds_a, ds_b, 'bilinear', extrap_method='inverse_dist')\n",
    "re2.regrid_dataarray(ds_a['a']).plot()"
   ]
  },
  {
   "cell_type": "code",
   "execution_count": null,
   "metadata": {},
   "outputs": [],
   "source": []
  }
 ],
 "metadata": {
  "kernelspec": {
   "display_name": "Python [conda env:analysis3]",
   "language": "python",
   "name": "conda-env-analysis3-py"
  },
  "language_info": {
   "codemirror_mode": {
    "name": "ipython",
    "version": 3
   },
   "file_extension": ".py",
   "mimetype": "text/x-python",
   "name": "python",
   "nbconvert_exporter": "python",
   "pygments_lexer": "ipython3",
   "version": "3.8.6"
  }
 },
 "nbformat": 4,
 "nbformat_minor": 4
}
