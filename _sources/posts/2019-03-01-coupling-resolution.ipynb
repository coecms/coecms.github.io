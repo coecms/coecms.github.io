{
 "cells": [
  {
   "cell_type": "markdown",
   "metadata": {},
   "source": [
    "# Setting up a coupled model at a new resolution\n",
    "### Scott Wales, CLEX CMS\n",
    "\n",
    "We've been setting up an ACCESS coupled model for a new atmosphere resolution. The process is quite involved, here's some notes on how we've done it.\n",
    "\n",
    "ACCESS consists of three models - the UM atmosphere, MOM ocean and CICE sea ice models, tied together with the Oasis coupler. The coupler handles sending fields between all of the models, to do so it needs to regrid the data fields from the grid of one model to the grid of another."
   ]
  },
  {
   "cell_type": "markdown",
   "metadata": {},
   "source": [
    "## Regridding weights\n",
    "\n",
    "Oasis requires regridding weights in SCRIP format to convert a field from one model to another. Oasis can generate these itself from SCRIP descriptions of the source and target grid, or they can be generated using [ESMF_RegridWeightGen](http://www.earthsystemmodeling.org/esmf_releases/public/ESMF_7_1_0r/ESMF_refdoc/node3.html#SECTION03020000000000000000) and the ESMF weights converted to SCRIP format.\n",
    "\n",
    "The most important thing here is that the masks are consistent between all the models. If they are not you will see discontinuity in the surface fields around coastlines.\n",
    "\n",
    "### UM Grids\n",
    "\n",
    "The UM mask is defined by two files - the land mask, which is 1 everywhere there is greater than 0% land in a grid cell, and the land fraction, which is the fraction of land in a grid cell. These fields are only defined on the T grid - the UM uses an [Arakawa C grid](https://en.wikipedia.org/wiki/Arakawa_grids#Arakawa_C-grid), with the scalar component termed the 'T' grid and the vector components termed the 'U' and 'V' grids.\n",
    "\n",
    "The coupling masks define the regions on the source and target grids which are involved in the coupling. Since we're coupling ocean and sea ice models we want to mask out land points where the ocean fields are not defined. The mask for the UM T grid should be 1 everywhere the land fraction field is less than 1, in other words everywhere with greater than 0% ocean in a cell.\n",
    "\n",
    "For the U and V fields I used no mask, since we don't want to conservatively interpolate vector fields and masking the offset grids is more difficult.\n",
    "\n",
    "Since the UM uses regular lat-lon grids you can create a [GRIDSPEC grid description](http://www.earthsystemmodeling.org/esmf_releases/public/ESMF_7_1_0r/ESMF_refdoc/node3.html#SECTION03028300000000000000) to feed into ESMF.\n",
    "\n",
    "### MOM/CICE Grids\n",
    "\n",
    "The MOM and CICE masks should be equal to each other. The CICE mask is found in `$ICE/INPUT/kmt.nc` as variable `kmt`, the MOM mask in `$OCN/INPUT/grid_spec.nc` as variable `wet`.\n",
    "\n",
    "The coupling mask for the MOM/CICE T grid should be equal to `wet` from `grid_spec.nc`.\n",
    "\n",
    "MOM uses a tripolar grid, all of the fields needed to create a [SCRIP description](http://www.earthsystemmodeling.org/esmf_releases/public/ESMF_7_1_0r/ESMF_refdoc/node3.html#SECTION03028100000000000000) of a MOM grid may be found in `grid_spec.nc`\n",
    "\n",
    "### Masks and Conservative Regridding\n",
    "\n",
    "Whereever possible we want to be using conservative regridding - we don't want our model to loose energy each timestep otherwise fields like the model temperature will drift. Conservative regridding ensures that the total field value sent by the source model equals the total field value received by the destination model.\n",
    "\n",
    "For conservative regridding to work, the masks of the two models must be consistent as well - there can't be areas where the ocean model thinks it's land and the atmosphere model thinks it's ocean.\n",
    "\n",
    "An example point where this can happen is the ice shelves around Antarctica. The ocean model's grid doesn't go all the way to the south pole, so it misses the southernmost part of the Ross ice shelf. The atmosphere grid does reach the pole however, and its default land mask assumes the ice shelf is ocean. There can be other areas where this causes conflicts as well - for instance the black sea is not included in the MOM default mask.\n",
    "\n",
    "To make sure that the masks are consistent you need to do a conservative regridding of the mask from one grid to the other. The highest resolution grid should be the source, in my case I used the ocean mask. I then conservatively regridded the `wet` field from MOM to the UM grid with ESMF_RegridWeightGen. It's important to not use masks for this interpolation, since the mask itself is what we're interpolating and we want to conserve the land area. Also since the MOM grid doesn't cover the entire globe I turned on the ESMF '--ignore_unmapped' flag. \n",
    "\n",
    "This operation gave me an ocean fraction field on the UM grid. The ocean fraction can then be straightforwardly converted to a land fraction and land mask field to be input to the UM, although note that the interpolation can introduce a bit of noise, so the land fraction won't be exactly 1.0 on pure land points - I used all grid cells where the land fraction was greater than 0.99 as the land mask.\n",
    "\n",
    "With a new land mask and land fraction the UM ancillaries needed to be modified\n",
    "\n",
    "### Regridding Weights\n",
    "\n",
    "To calculate regridding weights I used `ESMF_RegridWeightGen`, a command-line tool included with ESMF. ESMF names the fields differently to SCRIP, so some modification of the output is required in order for OASIS to be able to read the files.\n",
    "\n",
    "Conservative regridding is used for scalar fields, for vector fields I used patch regridding to for smooth interpolation without introducing artefacts from the different grid resolutions."
   ]
  },
  {
   "cell_type": "markdown",
   "metadata": {},
   "source": [
    "## UM Ancillary interpolation\n",
    "\n",
    "Since the UM is using a new resolution and mask the various ancillary datasets also need to be changed. For the most part files from the Met Office archive at the target resolution were used. For fields like vegetation fraction which are only defined on land points (and missing data over the ocean) I 'de-masked' the ancillary field, by performing a nearest grid point interpolation from the masked source field to the same grid without a mask to remove the missing data areas. It's important to use nearest grid point so that fields like the vegetation fractions correctly add up - some interpolation types also can result in negative values at some points which crashes the model.\n",
    "\n",
    "The aerosol climatology files had to be vertically interpolated since we had also reduced the number of vertical levels in the model run. For this I used the [stratify](https://github.com/SciTools-incubator/python-stratify) python library. The vertical levels used by the UM are hybrid height levels - they vary depending on location, following the terrain up to a certain height, then above that level they are constant height levels.\n",
    "\n",
    "To convert from the source set of hybrid heights to the target hybrid heights I first converted both to true heights, using the formula from [UMDB F03](https://code.metoffice.gov.uk/doc/um/latest/papers/umdp_F03.pdf). I then used stratify to convert the aerosol fields on true source heights to the true target heights.\n",
    "\n",
    "To modify the UM ancillary files I used the [mule](https://code.metoffice.gov.uk/doc/um/mule/2018.07.1/) library as well as [pandas](https://pandas.pydata.org/) to group the individual 2d lat-lon field slices that are contained in UM format files into the full 4d field"
   ]
  },
  {
   "cell_type": "code",
   "execution_count": 1,
   "metadata": {},
   "outputs": [],
   "source": [
    "def categorise_fields(m):\n",
    "    \"\"\"\n",
    "    Sorts all of the 2d field slices in mule file ``m`` into a\n",
    "    pandas.DataFrame so that they can be grouped together into full\n",
    "    fields\n",
    "    \"\"\"\n",
    "    df = pandas.DataFrame({'field': m.fields})\n",
    "    df['year'] = df['field'].apply(lambda f: f.lbyr)\n",
    "    df['month'] = df['field'].apply(lambda f: f.lbmon)\n",
    "    df['day'] = df['field'].apply(lambda f: f.lbdat)\n",
    "    df['hour'] = df['field'].apply(lambda f: f.lbhr)\n",
    "    df['minute'] = df['field'].apply(lambda f: f.lbmin)\n",
    "    df['second'] = df['field'].apply(lambda f: f.lbsec)\n",
    "    df['stash'] = df['field'].apply(lambda f: f.lbuser4)\n",
    "    df['vertical_type'] =df['field'].apply(lambda f: f.lbvc)\n",
    "    df['level'] = df['field'].apply(lambda f: f.lblev)\n",
    "    df['pseudo'] = df['field'].apply(lambda f: f.lbuser5)\n",
    "\n",
    "    df['blev'] = df['field'].apply(lambda f: f.blev)\n",
    "    df['brlev'] = df['field'].apply(lambda f: f.brlev)\n",
    "\n",
    "    df['bhlev'] = df['field'].apply(lambda f: f.bhlev)\n",
    "    df['bhrlev'] = df['field'].apply(lambda f: f.bhrlev)\n",
    "\n",
    "    return df\n",
    "\n",
    "# Group the 2d slices with the same field and time value together\n",
    "ancil = mule.AncilFile.from_file(ancil_path)\n",
    "df = categorise_fields(ancil)\n",
    "for name, g in df.groupby(['year','month','day','hour','minute','second', 'stash']):\n",
    "    print(\"%04d%02d%02dT%02d:%02d:%02d STASH %d\"%name)\n",
    "\n",
    "    # Stack the slices of this field/time into a 3d array\n",
    "    cube = numpy.stack(g['field'].apply(lambda f: f.get_data()))"
   ]
  },
  {
   "cell_type": "code",
   "execution_count": 2,
   "metadata": {},
   "outputs": [],
   "source": [
    "def true_theta_height(level_file, orography):\n",
    "    \"\"\"\n",
    "    Create a true height field from the UM levels namelist at ``level_file``\n",
    "    and the orography field\n",
    "    \"\"\"\n",
    "    target_levels = f90nml.read(vertlevs)['VERTLEVS']\n",
    "    \n",
    "    eta = numpy.array(target_levels['eta_theta'])\n",
    "    const_lev = target_levels['first_constant_r_rho_level']-1\n",
    "\n",
    "    Zsea = target_levels['z_top_of_model'] * eta\n",
    "    C = (1 - eta/eta[const_lev])**2\n",
    "    C[const_lev:] = 0\n",
    "    Z = target_Zsea[:, numpy.newaxis, numpy.newaxis] + numpy.multiply.outer(target_C,orog)\n",
    "\n",
    "    return Z"
   ]
  },
  {
   "cell_type": "markdown",
   "metadata": {},
   "source": [
    "## Running the model\n",
    "\n",
    "With all of this set up the next thing to do is configure the model with all of the new files then do a short test run. A single model day should tell you if the coupling fields are being sent correctly and all of the ancillary files are at the correct resolution. With that done you can move on to longer runs to check the stability of the model."
   ]
  }
 ],
 "metadata": {
  "kernelspec": {
   "display_name": "Python [conda env:analysis3]",
   "language": "python",
   "name": "conda-env-analysis3-py"
  },
  "language_info": {
   "codemirror_mode": {
    "name": "ipython",
    "version": 3
   },
   "file_extension": ".py",
   "mimetype": "text/x-python",
   "name": "python",
   "nbconvert_exporter": "python",
   "pygments_lexer": "ipython3",
   "version": "3.9.7"
  }
 },
 "nbformat": 4,
 "nbformat_minor": 4
}
