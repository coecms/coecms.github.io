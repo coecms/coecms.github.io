{
 "cells": [
  {
   "cell_type": "markdown",
   "metadata": {},
   "source": [
    "# Reading ENVI_MET files\n",
    "**Scott Wales, CLEX CMS**\n",
    "\n",
    "Let's take a look at reading the output of the ENVI_MET microclimate model, as described at http://www.envi-met.net/hg2e/doku.php?id=filereference:edx_edi\n",
    "\n",
    "Outputs consist of pairs of files - `.EDX` xml file containining metadata for a single output time, and `.EDT` files containing binary data.\n",
    "\n",
    "## Reading metadata\n",
    "\n",
    "Let's start out with the `.EDX` metadata. XML is pretty easy to read in python - https://docs.python.org/3.6/library/xml.etree.elementtree.html\n",
    "\n",
    "Note we need to define the file encoding, since it's using special characters (degrees symbol)"
   ]
  },
  {
   "cell_type": "code",
   "execution_count": 1,
   "metadata": {},
   "outputs": [],
   "source": [
    "import xml.etree.ElementTree as ET"
   ]
  },
  {
   "cell_type": "code",
   "execution_count": 5,
   "metadata": {},
   "outputs": [],
   "source": [
    "parser = ET.XMLParser(encoding='ISO-8859-1')\n",
    "meta = ET.parse('UrbanLayout_noIVS_AT_23.00.01 23.07.2013.EDX', parser=parser).getroot()"
   ]
  },
  {
   "cell_type": "markdown",
   "metadata": {},
   "source": [
    "Specific XML nodes can be accessed using `.find()`, which takes a path. Get the text inside the node with `.text`\n",
    "\n",
    "A bit of simple text processing gets a list of variable names"
   ]
  },
  {
   "cell_type": "code",
   "execution_count": 21,
   "metadata": {},
   "outputs": [
    {
     "data": {
      "text/plain": [
       "['Objects ( )',\n",
       " 'Flow u (m/s)',\n",
       " 'Flow v (m/s)',\n",
       " 'Flow w (m/s)',\n",
       " 'Wind Speed (m/s)',\n",
       " 'Wind Speed Change (%)',\n",
       " 'Wind Direction (deg)',\n",
       " 'Pressure Perturbation (Diff)',\n",
       " 'Air Temperature (°C)',\n",
       " 'Air Temperature Delta (K)',\n",
       " 'Air Temperature Change (K/h)',\n",
       " 'Spec. Humidity (g/kg)',\n",
       " 'Relative Humidity (%)',\n",
       " 'TKE (m²/m³)',\n",
       " 'Dissipation (m³/m³)',\n",
       " 'Vertical Exchange Coef. Impuls (m²/s)',\n",
       " 'Horizontal Exchange Coef. Impuls (m²/s)',\n",
       " 'Vegetation LAD (m²/m³)',\n",
       " 'Direct Sw Radiation (W/m²)',\n",
       " 'Diffuse Sw Radiation (W/m²)',\n",
       " 'Reflected Sw Radiation (W/m²)',\n",
       " 'Temperature Flux (K*m/s)',\n",
       " 'Vapour Flux (g/kg*m/s)',\n",
       " 'Water on Leafes (g/m²)',\n",
       " 'Leaf Temperature (°C)',\n",
       " 'Local Mixing Length (m)',\n",
       " 'Mean Radiant Temp. (°C)',\n",
       " 'TKE normalised 1D ( )',\n",
       " 'Dissipation normalised 1D ( )',\n",
       " 'Km normalised 1D ( )',\n",
       " 'TKE Mechanical Turbulence Prod. ( )',\n",
       " 'Stomata Resistance (s/m)',\n",
       " 'CO2 (mg/m3)',\n",
       " 'CO2 (ppm)',\n",
       " 'Plant CO2 Flux (mg/m²s)',\n",
       " 'Div Rlw Temp change (K/h)',\n",
       " 'Building Number ()']"
      ]
     },
     "execution_count": 21,
     "metadata": {},
     "output_type": "execute_result"
    }
   ],
   "source": [
    "variable_names = meta.find('variables/name_variables').text.strip().split(',')\n",
    "variable_names"
   ]
  },
  {
   "cell_type": "markdown",
   "metadata": {},
   "source": [
    "Get the array dimensions - we need to manually convert these to numbers with `int()`"
   ]
  },
  {
   "cell_type": "code",
   "execution_count": 20,
   "metadata": {},
   "outputs": [],
   "source": [
    "nr_xdata = int(meta.find('datadescription/nr_xdata').text)\n",
    "nr_ydata = int(meta.find('datadescription/nr_ydata').text)\n",
    "nr_zdata = int(meta.find('datadescription/nr_zdata').text)\n",
    "nr_ndata = int(meta.find('variables/Data_per_variable').text)"
   ]
  },
  {
   "cell_type": "markdown",
   "metadata": {},
   "source": [
    "## Reading binary files\n",
    "\n",
    "Now we have the metadata, let's read the actual data. This is stored as a binary file of little-endian floating point numbers, which can be read with numpy"
   ]
  },
  {
   "cell_type": "code",
   "execution_count": 23,
   "metadata": {},
   "outputs": [],
   "source": [
    "import numpy\n",
    "data = numpy.fromfile('UrbanLayout_noIVS_AT_23.00.01 23.07.2013.EDT','<f4')"
   ]
  },
  {
   "cell_type": "markdown",
   "metadata": {},
   "source": [
    "Sanity check - did we read the expected number of values?"
   ]
  },
  {
   "cell_type": "code",
   "execution_count": 90,
   "metadata": {},
   "outputs": [
    {
     "data": {
      "text/plain": [
       "True"
      ]
     },
     "execution_count": 90,
     "metadata": {},
     "output_type": "execute_result"
    }
   ],
   "source": [
    "len(data) == len(variable_names)*nr_xdata*nr_ydata*nr_zdata*nr_ndata"
   ]
  },
  {
   "cell_type": "markdown",
   "metadata": {},
   "source": [
    "Currently the data is just a 1d array. `.reshape()` it to the proper shape, as defined in the format documentation"
   ]
  },
  {
   "cell_type": "code",
   "execution_count": 89,
   "metadata": {},
   "outputs": [
    {
     "data": {
      "text/plain": [
       "(37, 24, 100, 100, 1)"
      ]
     },
     "execution_count": 89,
     "metadata": {},
     "output_type": "execute_result"
    }
   ],
   "source": [
    "cube = data.reshape((len(variable_names), nr_zdata, nr_ydata, nr_xdata, nr_ndata))\n",
    "cube.shape"
   ]
  },
  {
   "cell_type": "markdown",
   "metadata": {},
   "source": [
    "Another sanity check - field 8 is supposed to be temperature, are the values reasonable? Make sure the axes aren't flipped"
   ]
  },
  {
   "cell_type": "code",
   "execution_count": 93,
   "metadata": {},
   "outputs": [
    {
     "name": "stdout",
     "output_type": "stream",
     "text": [
      "22.4075 23.7675 30.7352\n"
     ]
    },
    {
     "data": {
      "image/png": "[encoded data removed]",
      "text/plain": [
       "<matplotlib.figure.Figure at 0x7f8af99df550>"
      ]
     },
     "metadata": {},
     "output_type": "display_data"
    }
   ],
   "source": [
    "t = cube[8,:,:,:,:]\n",
    "\n",
    "%matplotlib inline\n",
    "import matplotlib.pyplot as plt\n",
    "plt.imshow(t[0,:,:,0])\n",
    "print(t.min(), t.mean(), t.max())"
   ]
  },
  {
   "cell_type": "markdown",
   "metadata": {},
   "source": [
    "The `xarray` library is similar to Pandas, but for multiple dimensions. Create a dataset, so that we can access variables by their names rather than the index:"
   ]
  },
  {
   "cell_type": "code",
   "execution_count": 94,
   "metadata": {},
   "outputs": [
    {
     "data": {
      "text/plain": [
       "<xarray.Dataset>\n",
       "Dimensions:                                  (n: 1, x: 24, y: 100, z: 100)\n",
       "Dimensions without coordinates: n, x, y, z\n",
       "Data variables:\n",
       "    Objects ( )                              (x, y, z, n) float32 0.0 0.0 ...\n",
       "    Flow u (m/s)                             (x, y, z, n) float32 0.488468 ...\n",
       "    Flow v (m/s)                             (x, y, z, n) float32 0.512861 ...\n",
       "    Flow w (m/s)                             (x, y, z, n) float32 0.00120439 ...\n",
       "    Wind Speed (m/s)                         (x, y, z, n) float32 0.708258 ...\n",
       "    Wind Speed Change (%)                    (x, y, z, n) float32 102.205 ...\n",
       "    Wind Direction (deg)                     (x, y, z, n) float32 223.604 ...\n",
       "    Pressure Perturbation (Diff)             (x, y, z, n) float32 2.91062 ...\n",
       "    Air Temperature (°C)                     (x, y, z, n) float32 22.4075 ...\n",
       "    Air Temperature Delta (K)                (x, y, z, n) float32 -0.100772 ...\n",
       "    Air Temperature Change (K/h)             (x, y, z, n) float32 -1.02646 ...\n",
       "    Spec. Humidity (g/kg)                    (x, y, z, n) float32 9.87292 ...\n",
       "    Relative Humidity (%)                    (x, y, z, n) float32 60.434 ...\n",
       "    TKE (m²/m³)                              (x, y, z, n) float32 0.169738 ...\n",
       "    Dissipation (m³/m³)                      (x, y, z, n) float32 0.0270205 ...\n",
       "    Vertical Exchange Coef. Impuls (m²/s)    (x, y, z, n) float32 0.117289 ...\n",
       "    Horizontal Exchange Coef. Impuls (m²/s)  (x, y, z, n) float32 0.117289 ...\n",
       "    Vegetation LAD (m²/m³)                   (x, y, z, n) float32 0.0 0.0 ...\n",
       "    Direct Sw Radiation (W/m²)               (x, y, z, n) float32 0.0 0.0 ...\n",
       "    Diffuse Sw Radiation (W/m²)              (x, y, z, n) float32 0.0 0.0 ...\n",
       "    Reflected Sw Radiation (W/m²)            (x, y, z, n) float32 1.83102e-17 ...\n",
       "    Temperature Flux (K*m/s)                 (x, y, z, n) float32 -999.0 ...\n",
       "    Vapour Flux (g/kg*m/s)                   (x, y, z, n) float32 -999.0 ...\n",
       "    Water on Leafes (g/m²)                   (x, y, z, n) float32 -999.0 ...\n",
       "    Leaf Temperature (°C)                    (x, y, z, n) float32 -999.0 ...\n",
       "    Local Mixing Length (m)                  (x, y, z, n) float32 0.41409 ...\n",
       "    Mean Radiant Temp. (°C)                  (x, y, z, n) float32 14.3769 ...\n",
       "    TKE normalised 1D ( )                    (x, y, z, n) float32 6.42722 ...\n",
       "    Dissipation normalised 1D ( )            (x, y, z, n) float32 4.02007 ...\n",
       "    Km normalised 1D ( )                     (x, y, z, n) float32 10.2757 ...\n",
       "    TKE Mechanical Turbulence Prod. ( )      (x, y, z, n) float32 0.0554855 ...\n",
       "    Stomata Resistance (s/m)                 (x, y, z, n) float32 -999.0 ...\n",
       "    CO2 (mg/m3)                              (x, y, z, n) float32 646.296 ...\n",
       "    CO2 (ppm)                                (x, y, z, n) float32 357.65 ...\n",
       "    Plant CO2 Flux (mg/m²s)                  (x, y, z, n) float32 0.0 0.0 ...\n",
       "    Div Rlw Temp change (K/h)                (x, y, z, n) float32 9.54501 ...\n",
       "    Building Number ()                       (x, y, z, n) float32 -999.0 ..."
      ]
     },
     "execution_count": 94,
     "metadata": {},
     "output_type": "execute_result"
    }
   ],
   "source": [
    "import xarray\n",
    "\n",
    "ds = xarray.Dataset({name: (['x','y','z','n'], cube[idx,:,:,:,:]) for idx, name in enumerate(variable_names)})\n",
    "ds"
   ]
  },
  {
   "cell_type": "markdown",
   "metadata": {},
   "source": [
    "## General read function\n",
    "\n",
    "Here's a function that ties all of this together. It also adds a time value from the metadata. Similarly, if the x and y co-ordinates are known they can be added to the `coords` argument of `xarray.Dataset`."
   ]
  },
  {
   "cell_type": "code",
   "execution_count": 95,
   "metadata": {},
   "outputs": [],
   "source": [
    "import os\n",
    "import pandas\n",
    "import numpy\n",
    "import xarray\n",
    "import xml.etree.ElementTree as ET\n",
    "\n",
    "def open_edx(filename):\n",
    "    \"\"\"\n",
    "    Open a EDX/EDT dataset\n",
    "    \n",
    "    Returns an xarray dataset\n",
    "    \"\"\"\n",
    "    # Parse the metadata file\n",
    "    parser = ET.XMLParser(encoding='ISO-8859-1')\n",
    "    meta = ET.parse(filename, parser=parser).getroot()\n",
    "    \n",
    "    variable_names = meta.find('variables/name_variables').text.strip().split(',')\n",
    "    \n",
    "    nr_xdata = int(meta.find('datadescription/nr_xdata').text)\n",
    "    nr_ydata = int(meta.find('datadescription/nr_ydata').text)\n",
    "    nr_zdata = int(meta.find('datadescription/nr_zdata').text)\n",
    "    nr_ndata = int(meta.find('variables/Data_per_variable').text)\n",
    "    \n",
    "    date = meta.find('modeldescription/simulation_date').text.strip()\n",
    "    time = meta.find('modeldescription/simulation_time').text.strip()\n",
    "    \n",
    "    # Get the time\n",
    "    t = pandas.to_datetime(date+' '+time, format='%d.%m.%Y %H:%M:%S')\n",
    "    \n",
    "    # Read the data file\n",
    "    data = numpy.fromfile(os.path.splitext(filename)[0]+'.EDT','<f4')\n",
    "    cube = data.reshape((len(variable_names), nr_zdata, nr_ydata, nr_xdata, nr_ndata, 1))\n",
    "    \n",
    "    # Create a dataset\n",
    "    dataset = xarray.Dataset({name: (['z','y','x','n','time'], cube[idx,:,:,:,:])\n",
    "                              for idx, name in enumerate(variable_names)},\n",
    "                            coords={'time': [t]},\n",
    "                            )\n",
    "    return dataset"
   ]
  },
  {
   "cell_type": "markdown",
   "metadata": {},
   "source": [
    "## Processing data\n",
    "\n",
    "Individual files can be joined along the time dimension using `xarray.concat()`"
   ]
  },
  {
   "cell_type": "code",
   "execution_count": 96,
   "metadata": {},
   "outputs": [
    {
     "data": {
      "text/plain": [
       "<xarray.DataArray 'time' (time: 2)>\n",
       "array(['2013-07-23T22:00:01.000000000', '2013-07-23T23:00:01.000000000'], dtype='datetime64[ns]')\n",
       "Coordinates:\n",
       "  * time     (time) datetime64[ns] 2013-07-23T22:00:01 2013-07-23T23:00:01"
      ]
     },
     "execution_count": 96,
     "metadata": {},
     "output_type": "execute_result"
    }
   ],
   "source": [
    "ds1 = open_edx('UrbanLayout_noIVS_AT_22.00.01 23.07.2013.EDX')\n",
    "ds2 = open_edx('UrbanLayout_noIVS_AT_23.00.01 23.07.2013.EDX')\n",
    "ds = xarray.concat([ds1,ds2], dim='time')\n",
    "ds.time"
   ]
  },
  {
   "cell_type": "markdown",
   "metadata": {},
   "source": [
    "To get a Pandas dataframe, narrow down to one dimension using `.isel()` then call `.to_dataframe()`"
   ]
  },
  {
   "cell_type": "code",
   "execution_count": 87,
   "metadata": {},
   "outputs": [
    {
     "data": {
      "text/html": [
       "<div>\n",
       "<style scoped>\n",
       "    .dataframe tbody tr th:only-of-type {\n",
       "        vertical-align: middle;\n",
       "    }\n",
       "\n",
       "    .dataframe tbody tr th {\n",
       "        vertical-align: top;\n",
       "    }\n",
       "\n",
       "    .dataframe thead th {\n",
       "        text-align: right;\n",
       "    }\n",
       "</style>\n",
       "<table border=\"1\" class=\"dataframe\">\n",
       "  <thead>\n",
       "    <tr style=\"text-align: right;\">\n",
       "      <th></th>\n",
       "      <th>Objects ( )</th>\n",
       "      <th>Flow u (m/s)</th>\n",
       "      <th>Flow v (m/s)</th>\n",
       "      <th>Flow w (m/s)</th>\n",
       "      <th>Wind Speed (m/s)</th>\n",
       "      <th>Wind Speed Change (%)</th>\n",
       "      <th>Wind Direction (deg)</th>\n",
       "      <th>Pressure Perturbation (Diff)</th>\n",
       "      <th>Air Temperature (°C)</th>\n",
       "      <th>Air Temperature Delta (K)</th>\n",
       "      <th>...</th>\n",
       "      <th>TKE normalised 1D ( )</th>\n",
       "      <th>Dissipation normalised 1D ( )</th>\n",
       "      <th>Km normalised 1D ( )</th>\n",
       "      <th>TKE Mechanical Turbulence Prod. ( )</th>\n",
       "      <th>Stomata Resistance (s/m)</th>\n",
       "      <th>CO2 (mg/m3)</th>\n",
       "      <th>CO2 (ppm)</th>\n",
       "      <th>Plant CO2 Flux (mg/m²s)</th>\n",
       "      <th>Div Rlw Temp change (K/h)</th>\n",
       "      <th>Building Number ()</th>\n",
       "    </tr>\n",
       "    <tr>\n",
       "      <th>time</th>\n",
       "      <th></th>\n",
       "      <th></th>\n",
       "      <th></th>\n",
       "      <th></th>\n",
       "      <th></th>\n",
       "      <th></th>\n",
       "      <th></th>\n",
       "      <th></th>\n",
       "      <th></th>\n",
       "      <th></th>\n",
       "      <th></th>\n",
       "      <th></th>\n",
       "      <th></th>\n",
       "      <th></th>\n",
       "      <th></th>\n",
       "      <th></th>\n",
       "      <th></th>\n",
       "      <th></th>\n",
       "      <th></th>\n",
       "      <th></th>\n",
       "      <th></th>\n",
       "    </tr>\n",
       "  </thead>\n",
       "  <tbody>\n",
       "    <tr>\n",
       "      <th>2013-07-23 22:00:01</th>\n",
       "      <td>0.0</td>\n",
       "      <td>0.425640</td>\n",
       "      <td>0.646294</td>\n",
       "      <td>0.003525</td>\n",
       "      <td>0.773872</td>\n",
       "      <td>109.836174</td>\n",
       "      <td>213.368301</td>\n",
       "      <td>1.480833</td>\n",
       "      <td>23.992090</td>\n",
       "      <td>0.454916</td>\n",
       "      <td>...</td>\n",
       "      <td>18.302456</td>\n",
       "      <td>11.21650</td>\n",
       "      <td>29.86492</td>\n",
       "      <td>0.198397</td>\n",
       "      <td>-999.0</td>\n",
       "      <td>646.296021</td>\n",
       "      <td>359.616669</td>\n",
       "      <td>0.0</td>\n",
       "      <td>9.568902</td>\n",
       "      <td>-999.0</td>\n",
       "    </tr>\n",
       "    <tr>\n",
       "      <th>2013-07-23 23:00:01</th>\n",
       "      <td>0.0</td>\n",
       "      <td>0.425784</td>\n",
       "      <td>0.649482</td>\n",
       "      <td>0.003574</td>\n",
       "      <td>0.776616</td>\n",
       "      <td>112.069305</td>\n",
       "      <td>213.247787</td>\n",
       "      <td>1.546655</td>\n",
       "      <td>23.017899</td>\n",
       "      <td>0.509627</td>\n",
       "      <td>...</td>\n",
       "      <td>18.987762</td>\n",
       "      <td>11.88013</td>\n",
       "      <td>30.34774</td>\n",
       "      <td>0.197656</td>\n",
       "      <td>-999.0</td>\n",
       "      <td>646.296021</td>\n",
       "      <td>358.368988</td>\n",
       "      <td>0.0</td>\n",
       "      <td>8.379407</td>\n",
       "      <td>-999.0</td>\n",
       "    </tr>\n",
       "  </tbody>\n",
       "</table>\n",
       "<p>2 rows × 37 columns</p>\n",
       "</div>"
      ],
      "text/plain": [
       "                     Objects ( )  Flow u (m/s)  Flow v (m/s)  Flow w (m/s)  \\\n",
       "time                                                                         \n",
       "2013-07-23 22:00:01          0.0      0.425640      0.646294      0.003525   \n",
       "2013-07-23 23:00:01          0.0      0.425784      0.649482      0.003574   \n",
       "\n",
       "                     Wind Speed (m/s)  Wind Speed Change (%)  \\\n",
       "time                                                           \n",
       "2013-07-23 22:00:01          0.773872             109.836174   \n",
       "2013-07-23 23:00:01          0.776616             112.069305   \n",
       "\n",
       "                     Wind Direction (deg)  Pressure Perturbation (Diff)  \\\n",
       "time                                                                      \n",
       "2013-07-23 22:00:01            213.368301                      1.480833   \n",
       "2013-07-23 23:00:01            213.247787                      1.546655   \n",
       "\n",
       "                     Air Temperature (°C)  Air Temperature Delta (K)  \\\n",
       "time                                                                   \n",
       "2013-07-23 22:00:01             23.992090                   0.454916   \n",
       "2013-07-23 23:00:01             23.017899                   0.509627   \n",
       "\n",
       "                            ...          TKE normalised 1D ( )  \\\n",
       "time                        ...                                  \n",
       "2013-07-23 22:00:01         ...                      18.302456   \n",
       "2013-07-23 23:00:01         ...                      18.987762   \n",
       "\n",
       "                     Dissipation normalised 1D ( )  Km normalised 1D ( )  \\\n",
       "time                                                                       \n",
       "2013-07-23 22:00:01                       11.21650              29.86492   \n",
       "2013-07-23 23:00:01                       11.88013              30.34774   \n",
       "\n",
       "                     TKE Mechanical Turbulence Prod. ( )  \\\n",
       "time                                                       \n",
       "2013-07-23 22:00:01                             0.198397   \n",
       "2013-07-23 23:00:01                             0.197656   \n",
       "\n",
       "                     Stomata Resistance (s/m)  CO2 (mg/m3)   CO2 (ppm)  \\\n",
       "time                                                                     \n",
       "2013-07-23 22:00:01                    -999.0   646.296021  359.616669   \n",
       "2013-07-23 23:00:01                    -999.0   646.296021  358.368988   \n",
       "\n",
       "                     Plant CO2 Flux (mg/m²s)  Div Rlw Temp change (K/h)  \\\n",
       "time                                                                      \n",
       "2013-07-23 22:00:01                      0.0                   9.568902   \n",
       "2013-07-23 23:00:01                      0.0                   8.379407   \n",
       "\n",
       "                     Building Number ()  \n",
       "time                                     \n",
       "2013-07-23 22:00:01              -999.0  \n",
       "2013-07-23 23:00:01              -999.0  \n",
       "\n",
       "[2 rows x 37 columns]"
      ]
     },
     "execution_count": 87,
     "metadata": {},
     "output_type": "execute_result"
    }
   ],
   "source": [
    "ds.isel(x=50,y=7,z=0,n=0).to_dataframe()"
   ]
  },
  {
   "cell_type": "markdown",
   "metadata": {},
   "source": [
    "Or stay in xarray and use its plotting tools"
   ]
  },
  {
   "cell_type": "code",
   "execution_count": 98,
   "metadata": {},
   "outputs": [
    {
     "data": {
      "text/plain": [
       "<matplotlib.collections.QuadMesh at 0x7f8ab4d4e198>"
      ]
     },
     "execution_count": 98,
     "metadata": {},
     "output_type": "execute_result"
    },
    {
     "data": {
      "image/png": "[encoded data removed]",
      "text/plain": [
       "<matplotlib.figure.Figure at 0x7f8ab25b6828>"
      ]
     },
     "metadata": {},
     "output_type": "display_data"
    }
   ],
   "source": [
    "ds['Air Temperature (°C)'].isel(z=0,n=0,time=0).plot()"
   ]
  },
  {
   "cell_type": "code",
   "execution_count": null,
   "metadata": {},
   "outputs": [],
   "source": []
  }
 ],
 "metadata": {
  "kernelspec": {
   "display_name": "Python 3 (ipykernel)",
   "language": "python",
   "name": "python3"
  },
  "language_info": {
   "codemirror_mode": {
    "name": "ipython",
    "version": 3
   },
   "file_extension": ".py",
   "mimetype": "text/x-python",
   "name": "python",
   "nbconvert_exporter": "python",
   "pygments_lexer": "ipython3",
   "version": "3.10.5"
  }
 },
 "nbformat": 4,
 "nbformat_minor": 4
}
