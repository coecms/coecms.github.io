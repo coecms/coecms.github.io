{
 "cells": [
  {
   "cell_type": "markdown",
   "metadata": {},
   "source": [
    "# Using ARCCSSive to search CMIP5\n",
    "**Paola Petrelli, CLEX CMS**\n",
    "\n",
    "We created a database that contains information on the CMIP5 data available on raijin. We then created a python module **ARCCSSive** to help users accessing and interrogating the database. You might have used already one of our custom scripts that allows you to search for the files location directly from the command line, like *search_replica* .\n",
    "Let's have a look now on how to search the database interactively so you can perform a search and work with the results directly from your python script."
   ]
  },
  {
   "cell_type": "markdown",
   "metadata": {},
   "source": [
    "First of all we need to load the conda/analysis27 environment, available both on raijin and the VDI, so we can use ARCCSSive.\n",
    "\n",
    "\n",
    "&nbsp;&nbsp;&nbsp;&nbsp;module use /g/data/hh5/public/modules\n",
    "\n",
    "\n",
    "&nbsp;&nbsp;&nbsp;&nbsp;module load conda/analysis27\n",
    "\n",
    "The current version of ARCCSSive only works with python2, we are working on a new version in preparation for CMIP6, ARCCSSive2 will be available in conda/analysis3 .\n",
    "\n",
    "We will also import numpy to do some simple calculation and netCDF4 function MFDataset( ) to open multiple netcdf files at once."
   ]
  },
  {
   "cell_type": "code",
   "execution_count": 1,
   "metadata": {},
   "outputs": [],
   "source": [
    "from ARCCSSive import CMIP5\n",
    "import numpy as np\n",
    "from netCDF4 import MFDataset"
   ]
  },
  {
   "cell_type": "markdown",
   "metadata": {},
   "source": [
    "After having imported the module **CMIP5** from ARCCSSive, we create a connection to the database."
   ]
  },
  {
   "cell_type": "code",
   "execution_count": 2,
   "metadata": {},
   "outputs": [],
   "source": [
    "# step1: connect to the database\n",
    "db=CMIP5.connect()"
   ]
  },
  {
   "cell_type": "markdown",
   "metadata": {},
   "source": [
    "Then we use the **outputs( )** function to search the database. outputs( ) gets the *experiment, model, mip, ensemble* and *variable* as arguments. Any of these can be left out, so if we want to find all the models that have a r1i1p1 ensemble of historical monthly data for surface temperature, we pass all the corresponding arguments except *model*."
   ]
  },
  {
   "cell_type": "code",
   "execution_count": 4,
   "metadata": {},
   "outputs": [
    {
     "name": "stdout",
     "output_type": "stream",
     "text": [
      "Search found 45 results\n"
     ]
    }
   ],
   "source": [
    "# step2: search database without specifying the model\n",
    "outs=db.outputs(experiment='historical',mip='Amon',ensemble='r1i1p1', variable='tasmax')\n",
    "# we can see how many results were returned by the search\n",
    "print(\"Search found %s results\" % outs.count())"
   ]
  },
  {
   "cell_type": "markdown",
   "metadata": {},
   "source": [
    "Let's have a look at one of the results"
   ]
  },
  {
   "cell_type": "code",
   "execution_count": 5,
   "metadata": {},
   "outputs": [
    {
     "data": {
      "text/plain": [
       "<ARCCSSive.CMIP5.Model.Instance at 0x7f4040b48fd0>"
      ]
     },
     "execution_count": 5,
     "metadata": {},
     "output_type": "execute_result"
    }
   ],
   "source": [
    "outs[0]"
   ]
  },
  {
   "cell_type": "markdown",
   "metadata": {},
   "source": [
    "It is a special object called **Instance** which represent a row from the database Instance table.\n",
    "Each instance is defined by the arguments we listed above and can have one or more versions.\n",
    "It is the **Version** table that contains the directory path the we need to access the files."
   ]
  },
  {
   "cell_type": "code",
   "execution_count": 12,
   "metadata": {
    "scrolled": true
   },
   "outputs": [
    {
     "name": "stdout",
     "output_type": "stream",
     "text": [
      "[<ARCCSSive.CMIP5.Model.Version object at 0x7f4040c25ed0>, <ARCCSSive.CMIP5.Model.Version object at 0x7f4040c25f90>]\n",
      "/g/data/rr3/publications/CMIP5/output1/CSIRO-BOM/ACCESS1-3/historical/mon/atmos/Amon/r1i1p1/v20120413/tasmax\n"
     ]
    }
   ],
   "source": [
    "print(outs[5].versions)\n",
    "print(outs[5].versions[0].path)"
   ]
  },
  {
   "cell_type": "markdown",
   "metadata": {},
   "source": [
    "Most of the time we are interested only in the latest available version, we can use the *latest( )* function to do so."
   ]
  },
  {
   "cell_type": "code",
   "execution_count": 14,
   "metadata": {},
   "outputs": [
    {
     "name": "stdout",
     "output_type": "stream",
     "text": [
      "[<ARCCSSive.CMIP5.Model.Version object at 0x7f4040b7e8d0>]\n",
      "/g/data/rr3/publications/CMIP5/output1/CSIRO-BOM/ACCESS1-3/historical/mon/atmos/Amon/r1i1p1/v20130325/tasmax\n"
     ]
    }
   ],
   "source": [
    "print(outs[5].latest())\n",
    "print(outs[5].latest()[0].path)"
   ]
  },
  {
   "cell_type": "markdown",
   "metadata": {},
   "source": [
    "Unfortunately the CMIP5 replica directory often contains one or more copies of the same version. This is why *latest( )* always return a list and not only one version. So we need to use the \"0\" index to select one version.\n",
    "NB. NCI is in the process of creating a new cleaner copy of CMIP5 which will eventually solve all these issues.\n",
    "\n",
    "Let's now define a simple function which will get tasmax as input an return a mean value: "
   ]
  },
  {
   "cell_type": "code",
   "execution_count": 18,
   "metadata": {},
   "outputs": [],
   "source": [
    "from glob import glob\n",
    "def var_mean(var,path):\n",
    "    ''' calculate max value for variable '''\n",
    "    # open ensemble files as one aggregated file using MFDataset\n",
    "    # Glob is required here in order to expand the path if using python 2, for python 3 is not needed\n",
    "    #\n",
    "    # using path+\"/*.nc\" should be sufficient, unfortunately GISS models break conventions and they put all variables in one directory\n",
    "    #  so I'm using \"/\"+var+\"_*.nc\" just in case\n",
    "    #\n",
    "    expanded_path = glob(path+\"/\" + var + \"_*.nc\")\n",
    "    nc=MFDataset(expanded_path,'r')\n",
    "    data = nc.variables[var][:]\n",
    "    return np.mean(data)"
   ]
  },
  {
   "cell_type": "markdown",
   "metadata": {},
   "source": [
    "Now that we have defined a function let's pass the search results path to it, in this way we can calculate the mean on all the tasmax ensembles we found."
   ]
  },
  {
   "cell_type": "markdown",
   "metadata": {},
   "source": [
    "Let's now run the function for the results returned by the search, we used only the first 6 instances in this example. We simply have to pass the *path* attribute to the function. Rememebr path is defined in the Version table, along with the *version* label, while the *model* name is a  field on the Instance table."
   ]
  },
  {
   "cell_type": "code",
   "execution_count": 19,
   "metadata": {
    "scrolled": true
   },
   "outputs": [
    {
     "name": "stdout",
     "output_type": "stream",
     "text": [
      "Mean value for variable tasmax, model HadCM3 , version v20110823 is 278.319\n",
      "Mean value for variable tasmax, model MIROC4h , version v20110729 is 280.866\n",
      "Mean value for variable tasmax, model MIROC4h , version v20120628 is 280.866\n",
      "Mean value for variable tasmax, model CNRM-CM5-2 , version v20130401 is 279.091\n",
      "Mean value for variable tasmax, model CMCC-CM , version v20121008 is 279.159\n",
      "Mean value for variable tasmax, model MPI-ESM-MR , version v20120503 is 279.87\n"
     ]
    }
   ],
   "source": [
    "# step3: retrieve path for each version returned by search and pass it to function.\n",
    "# I'm limiting this to the first 6 results\n",
    "\n",
    "for o in outs[:5]:\n",
    "    var = o.variable\n",
    "    model = o.model\n",
    "    for v in o.versions:\n",
    "        varmean=var_mean(var,v.path)\n",
    "        print('Mean value for variable %s, model %s , version %s is %s' %(var, model, v.version, varmean))"
   ]
  },
  {
   "cell_type": "markdown",
   "metadata": {},
   "source": [
    "There are ways to execute more complex searches and/or filtering of the results returned by the *outputs( )* function. \n",
    "If you think this could be useful for you a more detailed explanations and examples of filters is \n",
    "available in the [**ARCCSSive training**](https://training.nci.org.au/mod/lesson/view.php?id=372) .\n",
    "\n",
    "\n",
    "As for other NCI online trainings you need to use your NCI account to login. The ARCCSSive training is part of a CMIP5 induction. If you are new to CMIP5 then it is a good idea to check the entire training."
   ]
  },
  {
   "cell_type": "code",
   "execution_count": null,
   "metadata": {},
   "outputs": [],
   "source": []
  }
 ],
 "metadata": {
  "kernelspec": {
   "display_name": "Python 3 (ipykernel)",
   "language": "python",
   "name": "python3"
  },
  "language_info": {
   "codemirror_mode": {
    "name": "ipython",
    "version": 3
   },
   "file_extension": ".py",
   "mimetype": "text/x-python",
   "name": "python",
   "nbconvert_exporter": "python",
   "pygments_lexer": "ipython3",
   "version": "3.10.5"
  }
 },
 "nbformat": 4,
 "nbformat_minor": 4
}
