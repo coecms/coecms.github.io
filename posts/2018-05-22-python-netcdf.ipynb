{
 "cells": [
  {
   "cell_type": "markdown",
   "metadata": {},
   "source": [
    "# Python Tuesday: NetCDF Python library overview\n",
    "### Scott Wales, CLEX CMS\n",
    "\n",
    "Let's take a look at some of the libraries available in the CMS Conda environment for loading NetCDF files.\n",
    "\n",
    "There are three main libraries available - `xarray`, `netCDF4` and `iris`. Each let you load a file and work with variables as if they were a numpy array, but each have their own unique features that can be helpful when working with climate datasets.\n",
    "\n",
    "For the examples I'll be using the following dataset from NCI's CMIP5 archive:"
   ]
  },
  {
   "cell_type": "code",
   "execution_count": 1,
   "metadata": {},
   "outputs": [],
   "source": [
    "sampledata = 'http://dapds00.nci.org.au/thredds/dodsC/rr3/CMIP5/output1/CSIRO-BOM/ACCESS1-0/amip/mon/atmos/Amon/r1i1p1/latest/tas/tas_Amon_ACCESS1-0_amip_r1i1p1_197901-200812.nc'"
   ]
  },
  {
   "cell_type": "markdown",
   "metadata": {},
   "source": [
    "## Xarray\n",
    "\n",
    "http://xarray.pydata.org/en/stable/\n",
    "\n",
    "Xarray is my favourite library for working with NetCDF files - it makes it easy to filter data by coordinate value, rather than having to work out array indices yourself. In combination with the Dask library it also lets you work with very large datasets without having to load everything into memory all at once.\n",
    "\n",
    "Xarray works with file formats other than NetCDF as well, so some features like compression settings can be inconvenient to set."
   ]
  },
  {
   "cell_type": "code",
   "execution_count": 2,
   "metadata": {},
   "outputs": [
    {
     "name": "stdout",
     "output_type": "stream",
     "text": [
      "Variable:\n",
      " <xarray.DataArray 'tas' (time: 360, lat: 145, lon: 192)>\n",
      "[10022400 values with dtype=float32]\n",
      "Coordinates:\n",
      "  * time     (time) datetime64[ns] 1979-01-16T12:00:00 1979-02-15 ...\n",
      "  * lat      (lat) float64 -90.0 -88.75 -87.5 -86.25 -85.0 -83.75 -82.5 ...\n",
      "  * lon      (lon) float64 0.0 1.875 3.75 5.625 7.5 9.375 11.25 13.12 15.0 ...\n",
      "    height   float64 ...\n",
      "Attributes:\n",
      "    standard_name:     air_temperature\n",
      "    long_name:         Near-Surface Air Temperature\n",
      "    units:             K\n",
      "    cell_methods:      time: mean\n",
      "    cell_measures:     area: areacella\n",
      "    history:           2012-02-17T05:21:51Z altered by CMOR: Treated scalar d...\n",
      "    associated_files:  baseURL: http://cmip-pcmdi.llnl.gov/CMIP5/dataLocation...\n",
      "\n",
      "Attribute:\n",
      " K\n"
     ]
    }
   ],
   "source": [
    "import xarray\n",
    "\n",
    "# Open a file\n",
    "data = xarray.open_dataset(sampledata)\n",
    "\n",
    "# Variables can be accessed either as properties or as a dict\n",
    "surface_temperature = data.tas\n",
    "surface_temperature = data['tas']\n",
    "\n",
    "print(\"Variable:\\n\", surface_temperature)\n",
    "\n",
    "# Same for attributes\n",
    "units = surface_temperature.units\n",
    "units = surface_temperature.attrs['units']\n",
    "\n",
    "print()\n",
    "print(\"Attribute:\\n\", units)\n",
    "\n",
    "# Variables can be indexed numpy-style or pandas-style\n",
    "d = surface_temperature[0, 0:10, 0:10]\n",
    "d = surface_temperature.isel(time=0, lat=slice(0,10), lon=slice(0,10))\n",
    "d = surface_temperature.sel(time='19790116T1200', lat=slice(-90,-80), lon=slice(0,20))\n",
    "\n",
    "# Data can be saved to a new file easily\n",
    "data.to_netcdf('data.nc')"
   ]
  },
  {
   "cell_type": "markdown",
   "metadata": {},
   "source": [
    "# netCDF4\n",
    "\n",
    "\n",
    "http://unidata.github.io/netcdf4-python/\n",
    "\n",
    "The netCDF4 library is a bare-bones library for working with NetCDF data. It doesn't have the bells and whistles of Xarray, but unlike Xarray it's a dedicated library, so features like compression and scale-and-offest are simpler to access."
   ]
  },
  {
   "cell_type": "code",
   "execution_count": 3,
   "metadata": {
    "scrolled": false
   },
   "outputs": [
    {
     "name": "stdout",
     "output_type": "stream",
     "text": [
      "Variable:\n",
      " <class 'netCDF4._netCDF4.Variable'>\n",
      "float32 tas(time, lat, lon)\n",
      "    standard_name: air_temperature\n",
      "    long_name: Near-Surface Air Temperature\n",
      "    units: K\n",
      "    cell_methods: time: mean\n",
      "    cell_measures: area: areacella\n",
      "    history: 2012-02-17T05:21:51Z altered by CMOR: Treated scalar dimension: 'height'. 2012-02-17T05:21:51Z altered by CMOR: replaced missing value flag (-1.07374e+09) with standard missing value (1e+20).\n",
      "    coordinates: height\n",
      "    missing_value: 1e+20\n",
      "    _FillValue: 1e+20\n",
      "    associated_files: baseURL: http://cmip-pcmdi.llnl.gov/CMIP5/dataLocation gridspecFile: gridspec_atmos_fx_ACCESS1-0_amip_r0i0p0.nc areacella: areacella_fx_ACCESS1-0_amip_r0i0p0.nc\n",
      "unlimited dimensions: time\n",
      "current shape = (360, 145, 192)\n",
      "filling off\n",
      "\n",
      "Attribute:\n",
      " K\n"
     ]
    }
   ],
   "source": [
    "import netCDF4\n",
    "\n",
    "data = netCDF4.Dataset(sampledata)\n",
    "\n",
    "# Variables can be accessed like a dict\n",
    "surface_temperature = data['tas']\n",
    "surface_temperature = data.variables['tas']\n",
    "\n",
    "print(\"Variable:\\n\", surface_temperature)\n",
    "\n",
    "# Attributes are accessed as properties of a variable\n",
    "units = surface_temperature.units\n",
    "\n",
    "print(\"Attribute:\\n\", units)\n",
    "\n",
    "# Variables can be indexed numpy-style\n",
    "data = surface_temperature[0, 0:10, 0:10]\n",
    "\n",
    "# Data can't be copied to a new file easily"
   ]
  },
  {
   "cell_type": "markdown",
   "metadata": {},
   "source": [
    "## Iris\n",
    "\n",
    "https://scitools.org.uk/iris\n",
    "\n",
    "While Xarray and netCDF4 both work similarly, the Iris library works a bit differently. Rather than accessing variables like a dictionary, Iris uses a list with a special function to get a variable by name. It also prefers using CF standard names, some special trickery is requried to get the variable by its name in the file.\n",
    "\n",
    "Iris also keeps the file-level attributes with each of the variables - you can see below that it lists things like the title and metadata conventions"
   ]
  },
  {
   "cell_type": "code",
   "execution_count": 4,
   "metadata": {},
   "outputs": [
    {
     "name": "stderr",
     "output_type": "stream",
     "text": [
      "/local/swales/conda/analysis3/lib/python3.6/site-packages/iris/fileformats/cf.py:798: UserWarning: Missing CF-netCDF measure variable 'areacella', referenced by netCDF variable 'tas'\n",
      "  warnings.warn(message % (variable_name, nc_var_name))\n",
      "/local/swales/conda/analysis3/lib/python3.6/site-packages/iris/fileformats/_pyke_rules/compiled_krb/fc_rules_cf_fc.py:1813: FutureWarning: Conversion of the second argument of issubdtype from `str` to `str` is deprecated. In future, it will be treated as `np.str_ == np.dtype(str).type`.\n",
      "  if np.issubdtype(cf_var.dtype, np.str):\n",
      "/local/swales/conda/analysis3/lib/python3.6/site-packages/iris/fileformats/_pyke_rules/compiled_krb/fc_rules_cf_fc.py:1813: FutureWarning: Conversion of the second argument of issubdtype from `str` to `str` is deprecated. In future, it will be treated as `np.str_ == np.dtype(str).type`.\n",
      "  if np.issubdtype(cf_var.dtype, np.str):\n"
     ]
    },
    {
     "name": "stdout",
     "output_type": "stream",
     "text": [
      "Variable:\n",
      " air_temperature / (K)               (time: 360; latitude: 145; longitude: 192)\n",
      "     Dimension coordinates:\n",
      "          time                           x              -               -\n",
      "          latitude                       -              x               -\n",
      "          longitude                      -              -               x\n",
      "     Scalar coordinates:\n",
      "          height: 1.5 m\n",
      "     Attributes:\n",
      "          Conventions: CF-1.4\n",
      "          DODS_EXTRA.Unlimited_Dimension: time\n",
      "          associated_files: baseURL: http://cmip-pcmdi.llnl.gov/CMIP5/dataLocation gridspecFile: gridspec_atmos_fx_ACCESS1-0_amip_r0i0p0.nc...\n",
      "          branch_time: 0.0\n",
      "          cmor_version: 2.8.0\n",
      "          contact: The ACCESS wiki: http://wiki.csiro.au/confluence/display/ACCESS/Home. Contact...\n",
      "          creation_date: 2012-02-17T05:21:53Z\n",
      "          experiment: AMIP\n",
      "          experiment_id: amip\n",
      "          forcing: GHG, Oz, SA, Sl, Vl, BC, OC, (GHG = CO2, N2O, CH4, CFC11, CFC12, CFC113,...\n",
      "          frequency: mon\n",
      "          history: 2012-02-17T05:21:51Z altered by CMOR: Treated scalar dimension: 'height'....\n",
      "          initialization_method: 1\n",
      "          institute_id: CSIRO-BOM\n",
      "          institution: CSIRO (Commonwealth Scientific and Industrial Research Organisation, Australia),...\n",
      "          model_id: ACCESS1-0\n",
      "          modeling_realm: atmos\n",
      "          parent_experiment: N/A\n",
      "          parent_experiment_id: N/A\n",
      "          parent_experiment_rip: r1i1p1\n",
      "          physics_version: 1\n",
      "          product: output\n",
      "          project_id: CMIP5\n",
      "          realization: 1\n",
      "          references: See http://wiki.csiro.au/confluence/display/ACCESS/ACCESS+Publications\n",
      "          source: ACCESS1-0 2011. Atmosphere: AGCM v1.0 (N96 grid-point, 1.875 degrees EW...\n",
      "          table_id: Table Amon (01 February 2012) 01388cb4507c2f05326b711b09604e7e\n",
      "          title: ACCESS1-0 model output prepared for CMIP5 AMIP\n",
      "          tracking_id: 7cfe11fc-5b1c-457d-812b-e95f45e7def4\n",
      "          version_number: v20120115\n",
      "     Cell methods:\n",
      "          mean: time\n",
      "\n",
      "Attribute:\n",
      " K\n"
     ]
    },
    {
     "name": "stderr",
     "output_type": "stream",
     "text": [
      "/local/swales/conda/analysis3/lib/python3.6/site-packages/iris/fileformats/netcdf.py:1573: FutureWarning: Conversion of the second argument of issubdtype from `str` to `str` is deprecated. In future, it will be treated as `np.str_ == np.dtype(str).type`.\n",
      "  if np.issubdtype(coord.points.dtype, np.str):\n"
     ]
    }
   ],
   "source": [
    "import iris\n",
    "\n",
    "data = iris.load(sampledata)\n",
    "\n",
    "# Variables can be accessed like a list\n",
    "surface_temperature = data[0]\n",
    "\n",
    "# Iris prefers to use the standard_name to identify variables\n",
    "surface_temperature = data.extract_strict('air_temperature')\n",
    "\n",
    "# Getting variables by their own name can be done, but is complicated\n",
    "surface_temperature = data.extract_strict(iris.Constraint(cube_func = lambda c: c.var_name == 'tas'))\n",
    "\n",
    "print(\"Variable:\\n\", surface_temperature)\n",
    "\n",
    "# Attributes can be accessed as properties\n",
    "units = surface_temperature.units\n",
    "\n",
    "print()\n",
    "print(\"Attribute:\\n\", units)\n",
    "\n",
    "# Variables can be indexed numpy-style or by special constraint objects\n",
    "data = surface_temperature[0, 0:10, 0:10]\n",
    "data = surface_temperature.extract(iris.Constraint(latitude=lambda x: 0 < x < 20))\n",
    "\n",
    "# Data can be saved to a new file\n",
    "iris.save(data, 'data.nc')"
   ]
  },
  {
   "cell_type": "code",
   "execution_count": null,
   "metadata": {},
   "outputs": [],
   "source": []
  }
 ],
 "metadata": {
  "kernelspec": {
   "display_name": "Python [conda env:analysis3]",
   "language": "python",
   "name": "conda-env-analysis3-py"
  },
  "language_info": {
   "codemirror_mode": {
    "name": "ipython",
    "version": 3
   },
   "file_extension": ".py",
   "mimetype": "text/x-python",
   "name": "python",
   "nbconvert_exporter": "python",
   "pygments_lexer": "ipython3",
   "version": "3.6.5"
  }
 },
 "nbformat": 4,
 "nbformat_minor": 2
}
