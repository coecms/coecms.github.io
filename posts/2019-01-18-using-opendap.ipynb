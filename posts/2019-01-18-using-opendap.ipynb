{
 "cells": [
  {
   "cell_type": "markdown",
   "metadata": {},
   "source": [
    "# Using OPeNDAP to access data remotely: MUR example\n",
    "### Paola Petrelli, CLEX CMS"
   ]
  },
  {
   "cell_type": "markdown",
   "metadata": {},
   "source": [
    "One of our researcher asked me recently to download the MUR (Multi-scale Ultra-high Resolution SST) dataset. She is interested in all the available period but only for a small region. This dataset is relatively small but has many files (several for each day across 19 years) and it is updated frequently. This means that we would also have to update and check the dataset frequently and the files would be stored across several sub-directories making the access more complicated. <br><br>\n",
    "Fortunately this data is available via OPeNDAP. OPeNDAP is a web-based software that allows users to access datasets remotely. Many softwares used for analysis recognise an OPeNDAP url as a filename. A OPeNDAP url is usually constituted by the remote address of the file followed by optional constraints.<br><br>\n",
    "This is one of the advantages of OPeNDAP you don't need to download a file before using it, you can simply subset the portion you need and the software you are using will load only the data you need. Next time you run the same analysis, if the data has been updated, you will be automatically using the updated dataset.<br><br>\n"
   ]
  },
  {
   "cell_type": "markdown",
   "metadata": {},
   "source": [
    "### OPeNDAP url\n",
    "Let's check an example using a test server:<br><br>\n",
    "http://test.opendap.org:80/opendap/data/nc/sst.mnmean.nc.gz.html <br>\n",
    "If you copy and paste the above url in your browser you will see what an OPeNDAP form looks like.<br><br>\n",
    "Let's split this url:<br>\n",
    "  **test.opendap.org:80/opendap/data** <br>\n",
    "is the root of the opendap catalogue, starting from this url you can browse down the available subdirectories, in our case **/nc/** indicating netcdf files;<br>\n",
    "finally the filename <br>\n",
    "  **sst.mnmean.nc.gz**<br>\n",
    "Note in this example the file is compressed with gzip, opendap can access compressed files without needing you to download and uncompress them before.\n",
    "If you want to select only some variables you can do so by adding some constraints:<br>\n",
    "**?sst,lat** <br>\n",
    "The constraints syntax is a question mark followed by a list of variables.\n",
    "Each variable is separated by a comma and can be indexed, for example\n",
    "**http://test.opendap.org:80/opendap/data/nc/sst.mnmean.nc.gz?sst[10:2:18][10:1:28][100:1:120]** <br>\n",
    "will return a subset of the sst array with: <br>\n",
    " * only every 2 timesteps from index 10 to 18\n",
    " * lat from index 10 to 28 included\n",
    " * lon from index 100 to 120 included\n",
    "\n",
    "An easy way to build the url is to use the form to select what you want the **data_url** box will update itself and show you the url you need to use to get exactly what you selected.<br><br>\n",
    "You don't need to subset a variable or even specify any of them. It is useful when you want to select only a specific variable, region or time range. <br>\n",
    "The downside is that usually you have to first retrieve the dimensions to work out which indexes to use.<br>\n",
    "We will see now how using xarray and python can help you skip this step.<br>"
   ]
  },
  {
   "cell_type": "markdown",
   "metadata": {},
   "source": [
    "### Accessing OPeNDAP in python with xarray\n",
    "\n",
    "I am using xarray to open one file from the MUR dataset, load the data and select the time and lat/lon ranges. <br>"
   ]
  },
  {
   "cell_type": "code",
   "execution_count": 1,
   "metadata": {},
   "outputs": [],
   "source": [
    "import xarray as xa"
   ]
  },
  {
   "cell_type": "markdown",
   "metadata": {},
   "source": [
    "If I knew exactly which indexes I'm interested into I could add a constraints to data url below and get back only a subset of the dataset.<br>\n",
    "Since we are using xarray we don't have to worry about that, since xarray initially will load only the information on the data and not the values."
   ]
  },
  {
   "cell_type": "code",
   "execution_count": 2,
   "metadata": {},
   "outputs": [],
   "source": [
    "dap_url=\"https://podaac-opendap.jpl.nasa.gov/opendap/allData/ghrsst/data/GDS2/L4/GLOB/JPL/MUR/v4.1/2002/152/20020601090000-JPL-L4_GHRSST-SSTfnd-MUR-GLOB-v02.0-fv04.1.nc\"\n",
    "data = xa.open_dataset(dap_url)"
   ]
  },
  {
   "cell_type": "markdown",
   "metadata": {},
   "source": [
    "I can select the sst variable and a specific region using latitude and longitude values simply as I would after loading data from a netcdf file. In fact xarray showed me the variable names and dimensions after I \"connected\" to the remote file. <br> In this way I'm loading directly only the values I'm interested into."
   ]
  },
  {
   "cell_type": "code",
   "execution_count": 3,
   "metadata": {
    "scrolled": true
   },
   "outputs": [
    {
     "data": {
      "text/plain": [
       "<xarray.DataArray 'analysed_sst' (time: 1, lat: 3999, lon: 3001)>\n",
       "[12000999 values with dtype=float32]\n",
       "Coordinates:\n",
       "  * time     (time) datetime64[ns] 2002-06-01T09:00:00\n",
       "  * lat      (lat) float32 -53.98 -53.97 -53.96 -53.95 ... -14.02 -14.01 -14.0\n",
       "  * lon      (lon) float32 140.0 140.01 140.02 140.03 ... 169.98 169.99 170.0\n",
       "Attributes:\n",
       "    long_name:      analysed sea surface temperature\n",
       "    standard_name:  sea_surface_foundation_temperature\n",
       "    units:          kelvin\n",
       "    valid_min:      -32767\n",
       "    valid_max:      32767\n",
       "    comment:        \"Final\" version using Multi-Resolution Variational Analys...\n",
       "    source:         AMSRE-REMSS, AVHRR_Pathfinder-PFV5.2-NODC_day, AVHRR_Path..."
      ]
     },
     "execution_count": 3,
     "metadata": {},
     "output_type": "execute_result"
    }
   ],
   "source": [
    "sst=data['analysed_sst'].sel(lat=slice(-53.99,-14), lon=slice(140,170))\n",
    "sst"
   ]
  },
  {
   "cell_type": "markdown",
   "metadata": {},
   "source": [
    "### Aggregated virtual files\n",
    "\n",
    "Another powerful feature of OPeNDAP is that it works also with virtually aggregated datasets. This sounds complicated but all you need to know is that a multi files dataset can be made visible as a single file, you can then access potentially thousands of files via a single url. <br><br>\n",
    "MUR dataset is available as a virtually aggregated file so we can use this version of the data to get the complete SST timeseries from one url only."
   ]
  },
  {
   "cell_type": "code",
   "execution_count": 4,
   "metadata": {},
   "outputs": [],
   "source": [
    "aggr_url = \"https://thredds.jpl.nasa.gov/thredds/dodsC/OceanTemperature/MUR-JPL-L4-GLOB-v4.1.nc\"\n",
    "data = xa.open_dataset(aggr_url)"
   ]
  },
  {
   "cell_type": "markdown",
   "metadata": {},
   "source": [
    "I loaded the data in the same way and I'm going to select sst and the region IO'm interested into in exactly the same way"
   ]
  },
  {
   "cell_type": "code",
   "execution_count": 5,
   "metadata": {},
   "outputs": [
    {
     "data": {
      "text/plain": [
       "<xarray.DataArray 'analysed_sst' (time: 6106, lat: 3999, lon: 3001)>\n",
       "[73278099894 values with dtype=float32]\n",
       "Coordinates:\n",
       "  * lat      (lat) float32 -53.98 -53.97 -53.96 -53.95 ... -14.02 -14.01 -14.0\n",
       "  * lon      (lon) float32 140.0 140.01 140.02 140.03 ... 169.98 169.99 170.0\n",
       "  * time     (time) datetime64[ns] 2002-06-01T09:00:00 ... 2019-02-17T09:00:00\n",
       "Attributes:\n",
       "    long_name:      analysed sea surface temperature\n",
       "    standard_name:  sea_surface_foundation_temperature\n",
       "    units:          kelvin\n",
       "    valid_min:      -32767\n",
       "    valid_max:      32767\n",
       "    comment:        \"Final\" version using Multi-Resolution Variational Analys...\n",
       "    source:         AVHRR18_G-NAVO, AVHRR19_G-NAVO, AVHRR_METOP_A-EUMETSAT, M...\n",
       "    _ChunkSizes:    [   1 1023 2047]"
      ]
     },
     "execution_count": 5,
     "metadata": {},
     "output_type": "execute_result"
    }
   ],
   "source": [
    "sst=data['analysed_sst'].sel(lat=slice(-53.99,-14), lon=slice(140,170))\n",
    "sst"
   ]
  },
  {
   "cell_type": "code",
   "execution_count": null,
   "metadata": {},
   "outputs": [],
   "source": []
  }
 ],
 "metadata": {
  "kernelspec": {
   "display_name": "Python 3 (ipykernel)",
   "language": "python",
   "name": "python3"
  },
  "language_info": {
   "codemirror_mode": {
    "name": "ipython",
    "version": 3
   },
   "file_extension": ".py",
   "mimetype": "text/x-python",
   "name": "python",
   "nbconvert_exporter": "python",
   "pygments_lexer": "ipython3",
   "version": "3.9.7"
  }
 },
 "nbformat": 4,
 "nbformat_minor": 4
}
